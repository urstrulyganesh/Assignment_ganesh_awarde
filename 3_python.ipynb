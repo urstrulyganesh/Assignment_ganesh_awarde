{
 "cells": [
  {
   "cell_type": "code",
   "execution_count": 3,
   "id": "b68acbdd-869f-405a-9e54-586b59915262",
   "metadata": {},
   "outputs": [
    {
     "name": "stdout",
     "output_type": "stream",
     "text": [
      "Data has been downloaded and saved to 'pokemon_data.xlsx'.\n"
     ]
    }
   ],
   "source": [
    "import requests\n",
    "import json\n",
    "import pandas as pd\n",
    "\n",
    "def download_data(url):\n",
    "    response = requests.get(url)\n",
    "    if response.status_code == 200:\n",
    "        return response.json()\n",
    "    else:\n",
    "        raise Exception(\"Failed to download data\")\n",
    "\n",
    "def convert_to_excel(data, output_file):\n",
    "    if data is None:\n",
    "        raise Exception(\"Data is empty or invalid\")\n",
    "\n",
    "\n",
    "url = 'https://raw.githubusercontent.com/Biuni/PokemonGO-Pokedex/master/pokedex.json'\n",
    "data = download_data(url)\n",
    "\n",
    "\n",
    "output_file = 'pokemon_data.xlsx'\n",
    "convert_to_excel(data, output_file)\n",
    "\n",
    "print(f\"Data has been downloaded and saved to '{output_file}'.\")\n"
   ]
  },
  {
   "cell_type": "code",
   "execution_count": null,
   "id": "acfc5b51-8842-4f2c-b65c-42a71ad0ce24",
   "metadata": {},
   "outputs": [],
   "source": []
  }
 ],
 "metadata": {
  "kernelspec": {
   "display_name": "Python 3 (ipykernel)",
   "language": "python",
   "name": "python3"
  },
  "language_info": {
   "codemirror_mode": {
    "name": "ipython",
    "version": 3
   },
   "file_extension": ".py",
   "mimetype": "text/x-python",
   "name": "python",
   "nbconvert_exporter": "python",
   "pygments_lexer": "ipython3",
   "version": "3.10.3"
  }
 },
 "nbformat": 4,
 "nbformat_minor": 5
}
