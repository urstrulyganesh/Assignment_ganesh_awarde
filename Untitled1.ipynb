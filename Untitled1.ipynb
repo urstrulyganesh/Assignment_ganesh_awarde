{
 "cells": [
  {
   "cell_type": "code",
   "execution_count": 1,
   "id": "b2914503-3242-4f0b-bae9-9a2ab8338cca",
   "metadata": {},
   "outputs": [
    {
     "name": "stdout",
     "output_type": "stream",
     "text": [
      "7 0 8 0 "
     ]
    },
    {
     "data": {
      "text/plain": [
       "<__main__.ListNode at 0x15616b8c340>"
      ]
     },
     "execution_count": 1,
     "metadata": {},
     "output_type": "execute_result"
    }
   ],
   "source": [
    "class ListNode:\n",
    "    def __init__(self, val=0, next=None):\n",
    "        self.val = val\n",
    "        self.next = next\n",
    "\n",
    "def addTwoNumbers(l1, l2):\n",
    "    dummy = ListNode(0)\n",
    "    p, q = l1, l2\n",
    "    curr = dummy\n",
    "    carry = 0\n",
    "\n",
    "    while p or q:\n",
    "        x = p.val if p else 0\n",
    "        y = q.val if q else 0\n",
    "        sum_val = x + y + carry\n",
    "        carry = sum_val // 10\n",
    "        curr.next = ListNode(sum_val % 10)\n",
    "        curr = curr.next\n",
    "        if p:\n",
    "            p = p.next\n",
    "        if q:\n",
    "            q = q.next\n",
    "\n",
    "    if carry:\n",
    "        curr.next = ListNode(carry)\n",
    "\n",
    "    return dummy.next\n",
    "\n",
    "# Example 1\n",
    "l1 = ListNode(2)\n",
    "l1.next = ListNode(4)\n",
    "l1.next.next = ListNode(3)\n",
    "\n",
    "l2 = ListNode(5)\n",
    "l2.next = ListNode(6)\n",
    "l2.next.next = ListNode(4)\n",
    "\n",
    "result = addTwoNumbers(l1, l2)\n",
    "while result:\n",
    "    print(result.val, end=\" \")\n",
    "    result = result.next\n",
    "# Output: 7 0 8\n",
    "\n",
    "# Example 2\n",
    "l1 = ListNode(0)\n",
    "l2 = ListNode(0)\n",
    "\n",
    "result = addTwoNumbers(l1, l2)\n",
    "while result:\n",
    "    print(result.val, end=\" \")\n",
    "    result = result.next\n",
    "# Output: 0\n",
    "\n",
    "# Example 3\n",
    "l1 = ListNode(9)\n",
    "l1.next = ListNode(9)\n",
    "l1.next.next = ListNode(9)\n",
    "l1.next.next.next = ListNode(9)\n",
    "l1.next.next.next.next = ListNode(9)\n",
    "l1.next.next.next.next.next = ListNode(9)\n",
    "l1.next.next.next.next.next.next = ListNode(9)\n",
    "\n",
    "l2 = ListNode(9)\n",
    "l2.next = ListNode(9)\n",
    "l2.next.next = ListNode(9)\n",
    "l2.next\n"
   ]
  },
  {
   "cell_type": "code",
   "execution_count": null,
   "id": "eb60032c-1190-4849-ae00-44fe58767356",
   "metadata": {},
   "outputs": [],
   "source": []
  }
 ],
 "metadata": {
  "kernelspec": {
   "display_name": "Python 3 (ipykernel)",
   "language": "python",
   "name": "python3"
  },
  "language_info": {
   "codemirror_mode": {
    "name": "ipython",
    "version": 3
   },
   "file_extension": ".py",
   "mimetype": "text/x-python",
   "name": "python",
   "nbconvert_exporter": "python",
   "pygments_lexer": "ipython3",
   "version": "3.10.3"
  }
 },
 "nbformat": 4,
 "nbformat_minor": 5
}
