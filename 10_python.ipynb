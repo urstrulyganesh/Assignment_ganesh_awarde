{
 "cells": [
  {
   "cell_type": "code",
   "execution_count": 1,
   "id": "5c7fe43c-48e6-4227-8a7f-8b1e0165473a",
   "metadata": {},
   "outputs": [
    {
     "name": "stdout",
     "output_type": "stream",
     "text": [
      "{'verbs': 1, 'nouns': 1, 'pronouns': 0, 'adjectives': 0}\n"
     ]
    }
   ],
   "source": [
    "def count_pos_tags(text):\n",
    "    # Convert the text to lowercase for consistent comparison\n",
    "    text = text.lower()\n",
    "\n",
    "    # Define lists of verbs, nouns, pronouns, and adjectives\n",
    "    verbs = [\"am\", \"is\", \"are\", \"was\", \"were\", \"be\", \"being\", \"been\",\n",
    "             \"have\", \"has\", \"had\", \"do\", \"does\", \"did\", \"will\", \"shall\",\n",
    "             \"should\", \"would\", \"may\", \"might\", \"must\", \"can\", \"could\"]\n",
    "    nouns = [\"cat\", \"dog\", \"fox\", \"mat\", \"day\", \"weather\"]\n",
    "    pronouns = [\"i\", \"you\", \"he\", \"she\", \"it\", \"we\", \"they\"]\n",
    "    adjectives = [\"quick\", \"brown\", \"lazy\", \"beautiful\", \"sunny\", \"warm\", \"pleasant\"]\n",
    "\n",
    "    # Initialize counters\n",
    "    verb_count = 0\n",
    "    noun_count = 0\n",
    "    pronoun_count = 0\n",
    "    adjective_count = 0\n",
    "\n",
    "    # Split the text into words\n",
    "    words = text.split()\n",
    "\n",
    "    # Iterate through the words and count each part of speech\n",
    "    for word in words:\n",
    "        if word in verbs:\n",
    "            verb_count += 1\n",
    "        elif word in nouns:\n",
    "            noun_count += 1\n",
    "        elif word in pronouns:\n",
    "            pronoun_count += 1\n",
    "        elif word in adjectives:\n",
    "            adjective_count += 1\n",
    "\n",
    "    # Create a dictionary to store the counts\n",
    "    pos_counts = {\n",
    "        'verbs': verb_count,\n",
    "        'nouns': noun_count,\n",
    "        'pronouns': pronoun_count,\n",
    "        'adjectives': adjective_count\n",
    "    }\n",
    "\n",
    "    return pos_counts\n",
    "\n",
    "# Example usage\n",
    "text = \"The cat is sitting on the mat.\"\n",
    "result = count_pos_tags(text)\n",
    "print(result)\n"
   ]
  },
  {
   "cell_type": "code",
   "execution_count": 2,
   "id": "027ecace-b7f0-4f43-8576-d1ec7468bc1c",
   "metadata": {},
   "outputs": [
    {
     "name": "stdout",
     "output_type": "stream",
     "text": [
      "{'verbs': 1, 'nouns': 1, 'pronouns': 1, 'adjectives': 4}\n"
     ]
    }
   ],
   "source": [
    "text = \"The quick brown fox jumps over the lazy dog. It is a beautiful day.\"\n",
    "result = count_pos_tags(text)\n",
    "print(result)\n"
   ]
  },
  {
   "cell_type": "code",
   "execution_count": 3,
   "id": "ed3397b7-14a9-421b-82bf-adca79e3fef0",
   "metadata": {},
   "outputs": [
    {
     "name": "stdout",
     "output_type": "stream",
     "text": [
      "{'verbs': 1, 'nouns': 1, 'pronouns': 0, 'adjectives': 0}\n"
     ]
    }
   ],
   "source": [
    "text = \"The weather is sunny, warm, and pleasant.\"\n",
    "result = count_pos_tags(text)\n",
    "print(result)\n"
   ]
  },
  {
   "cell_type": "code",
   "execution_count": null,
   "id": "c1f80e39-039d-4238-8b2c-d64f94b02d21",
   "metadata": {},
   "outputs": [],
   "source": []
  }
 ],
 "metadata": {
  "kernelspec": {
   "display_name": "Python 3 (ipykernel)",
   "language": "python",
   "name": "python3"
  },
  "language_info": {
   "codemirror_mode": {
    "name": "ipython",
    "version": 3
   },
   "file_extension": ".py",
   "mimetype": "text/x-python",
   "name": "python",
   "nbconvert_exporter": "python",
   "pygments_lexer": "ipython3",
   "version": "3.10.3"
  }
 },
 "nbformat": 4,
 "nbformat_minor": 5
}
