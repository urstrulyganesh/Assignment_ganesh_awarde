{
 "cells": [
  {
   "cell_type": "code",
   "execution_count": 17,
   "id": "02898bf9-e634-4573-9651-165fdc430560",
   "metadata": {},
   "outputs": [],
   "source": [
    "def is_string(s):\n",
    "    char_count = {}\n",
    "    for char in s:\n",
    "        if char in char_count:\n",
    "            char_count[char] += 1\n",
    "        else:\n",
    "            char_count[char] = 1\n",
    "\n",
    "    freq_count = {}\n",
    "    for count in char_count.values():\n",
    "        if count in freq_count:\n",
    "            freq_count[count] += 1\n",
    "        else:\n",
    "            freq_count[count] = 1\n",
    "\n",
    "    if len(freq_count) == 1:\n",
    "        return \"YES\"  \n",
    "\n",
    "    if len(freq_count) == 2:\n",
    "        \n",
    "        for count, frequency in freq_count.items():\n",
    "            if frequency == 1 and (count == 1 or count - 1 == 1):\n",
    "                return \"YES\"  \n",
    "    return \"NO\"\n",
    "\n",
    "\n"
   ]
  },
  {
   "cell_type": "code",
   "execution_count": 22,
   "id": "ad73f1b9-f235-4c1f-923b-0d827a9d1aa7",
   "metadata": {},
   "outputs": [
    {
     "name": "stdout",
     "output_type": "stream",
     "text": [
      "YES\n"
     ]
    }
   ],
   "source": [
    "# Testing the provided examples\n",
    "string1 = \"ganesh\"\n",
    "result1 = is_string(string1)\n",
    "print(result1)  \n",
    "\n"
   ]
  },
  {
   "cell_type": "code",
   "execution_count": 23,
   "id": "9875fd5a-d078-4756-8623-6c621c6cc54c",
   "metadata": {},
   "outputs": [
    {
     "name": "stdout",
     "output_type": "stream",
     "text": [
      "NO\n"
     ]
    }
   ],
   "source": [
    "string2 = \"abccc\"\n",
    "result2 = is_string(string2)\n",
    "print(result2) \n"
   ]
  },
  {
   "cell_type": "code",
   "execution_count": 4,
   "id": "6efba179-183f-4a25-9bc6-ee31c64d2945",
   "metadata": {},
   "outputs": [],
   "source": [
    "#Additional Tests:\n"
   ]
  },
  {
   "cell_type": "code",
   "execution_count": 20,
   "id": "da27e0a9-aa76-42fe-bb62-af131eaca710",
   "metadata": {},
   "outputs": [
    {
     "name": "stdout",
     "output_type": "stream",
     "text": [
      "YES\n"
     ]
    }
   ],
   "source": [
    "#1\n",
    "string = \"xyxyxy\"\n",
    "result = is_string(string)\n",
    "print(result) \n",
    "\n"
   ]
  },
  {
   "cell_type": "code",
   "execution_count": 24,
   "id": "597187ec-04c5-4322-9001-3010a245ee98",
   "metadata": {},
   "outputs": [
    {
     "name": "stdout",
     "output_type": "stream",
     "text": [
      "NO\n"
     ]
    }
   ],
   "source": [
    "#2\n",
    "string = \"synkyy\"\n",
    "result = is_string(string)\n",
    "print(result) \n"
   ]
  },
  {
   "cell_type": "code",
   "execution_count": null,
   "id": "507e9eb9-cb15-406f-aa7d-58132df22d02",
   "metadata": {},
   "outputs": [],
   "source": []
  }
 ],
 "metadata": {
  "kernelspec": {
   "display_name": "Python 3 (ipykernel)",
   "language": "python",
   "name": "python3"
  },
  "language_info": {
   "codemirror_mode": {
    "name": "ipython",
    "version": 3
   },
   "file_extension": ".py",
   "mimetype": "text/x-python",
   "name": "python",
   "nbconvert_exporter": "python",
   "pygments_lexer": "ipython3",
   "version": "3.10.3"
  }
 },
 "nbformat": 4,
 "nbformat_minor": 5
}
