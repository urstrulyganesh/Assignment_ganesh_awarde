{
 "cells": [
  {
   "cell_type": "code",
   "execution_count": 1,
   "id": "debb8001-0560-427d-8f47-3e9f118fe065",
   "metadata": {},
   "outputs": [],
   "source": [
    "def find_highest_frequency_word_length(string):\n",
    "    word_frequency = {}\n",
    "    words = string.split()\n",
    "\n",
    "    for word in words:\n",
    "        if word in word_frequency:\n",
    "            word_frequency[word] += 1\n",
    "        else:\n",
    "            word_frequency[word] = 1\n",
    "\n",
    "    max_frequency = max(word_frequency.values())\n",
    "    highest_frequency_word = [word for word, freq in word_frequency.items() if freq == max_frequency]\n",
    "    highest_frequency_word_length = len(highest_frequency_word[0])\n",
    "\n",
    "    return highest_frequency_word_length\n"
   ]
  },
  {
   "cell_type": "code",
   "execution_count": 4,
   "id": "364fa493-323d-428e-8112-011cae125edf",
   "metadata": {},
   "outputs": [
    {
     "name": "stdout",
     "output_type": "stream",
     "text": [
      "Output: 5\n"
     ]
    }
   ],
   "source": [
    "string = \"write write write all the number from from from 1 to 100\"\n",
    "result = find_highest_frequency_word_length(string)\n",
    "print(\"Output:\",result) \n",
    "\n"
   ]
  },
  {
   "cell_type": "code",
   "execution_count": 5,
   "id": "546e0836-b8f0-4ca4-b8ff-fe664b9cc9f9",
   "metadata": {},
   "outputs": [],
   "source": [
    "#Additional test cases:\n",
    "\n",
    "#1 Testing a string with multiple words of the same frequency:"
   ]
  },
  {
   "cell_type": "code",
   "execution_count": 7,
   "id": "29111930-9fa8-4039-b03d-d8964261955d",
   "metadata": {},
   "outputs": [
    {
     "name": "stdout",
     "output_type": "stream",
     "text": [
      "Output: 5\n"
     ]
    }
   ],
   "source": [
    "string = \"apple banana orange apple banana orange\"\n",
    "result = find_highest_frequency_word_length(string)\n",
    "print(\"Output:\",result) \n"
   ]
  },
  {
   "cell_type": "code",
   "execution_count": 8,
   "id": "5e2cada2-e48e-4100-958f-fcb3dfeb9ca5",
   "metadata": {},
   "outputs": [],
   "source": [
    "#2 Testing a string with a single word:"
   ]
  },
  {
   "cell_type": "code",
   "execution_count": 10,
   "id": "3dd18e5a-391a-46f3-9644-dc69969f571c",
   "metadata": {},
   "outputs": [
    {
     "name": "stdout",
     "output_type": "stream",
     "text": [
      "Output: 5\n"
     ]
    }
   ],
   "source": [
    "string = \"hello\"\n",
    "result = find_highest_frequency_word_length(string)\n",
    "print('Output:',result) "
   ]
  },
  {
   "cell_type": "code",
   "execution_count": null,
   "id": "e8b5133f-ec21-4132-b36d-6b2cd85fd181",
   "metadata": {},
   "outputs": [],
   "source": [
    "##Explanation:\n",
    "#The program first splits the input string into a list of words using the split() method. It then iterates over each word and keeps track of their frequencies in the word_frequency dictionary.\n",
    "\n",
    "#After counting the frequencies, it finds the maximum frequency using the max() function applied to the values of word_frequency. It then retrieves the highest frequency word(s) by filtering the dictionary based on the maximum frequency.\n",
    "\n",
    "#Finally, it returns the length of the first highest frequency word found."
   ]
  }
 ],
 "metadata": {
  "kernelspec": {
   "display_name": "Python 3 (ipykernel)",
   "language": "python",
   "name": "python3"
  },
  "language_info": {
   "codemirror_mode": {
    "name": "ipython",
    "version": 3
   },
   "file_extension": ".py",
   "mimetype": "text/x-python",
   "name": "python",
   "nbconvert_exporter": "python",
   "pygments_lexer": "ipython3",
   "version": "3.10.3"
  }
 },
 "nbformat": 4,
 "nbformat_minor": 5
}
