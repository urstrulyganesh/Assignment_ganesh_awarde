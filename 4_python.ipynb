{
 "cells": [
  {
   "cell_type": "code",
   "execution_count": 4,
   "id": "7823c9c4-a5b3-4d1d-84f2-7994d05f9ee0",
   "metadata": {},
   "outputs": [
    {
     "name": "stdout",
     "output_type": "stream",
     "text": [
      "Data has been downloaded and saved to 'meteorite_data.csv'.\n"
     ]
    }
   ],
   "source": [
    "import requests\n",
    "import csv\n",
    "from datetime import datetime\n",
    "\n",
    "def download_data(url):\n",
    "    response = requests.get(url)\n",
    "    if response.status_code == 200:\n",
    "        return response.json()\n",
    "    else:\n",
    "        raise Exception(\"Failed to download data\")\n",
    "\n",
    "def convert_to_csv(data, output_file):\n",
    "    with open(output_file, 'w', newline='', encoding='utf-8') as csvfile:\n",
    "        writer = csv.writer(csvfile)\n",
    "        \n",
    "        # Write the header row\n",
    "        writer.writerow([\n",
    "            'Name of Earth Meteorite',\n",
    "            'id',\n",
    "            'Meteorite',\n",
    "            'nametype',\n",
    "            'recclass',\n",
    "            'mass (g)',\n",
    "            'year',\n",
    "            'reclat',\n",
    "            'reclong',\n",
    "            'point coordinates'\n",
    "        ])\n",
    "        \n",
    "        # Iterate over the data and write each row\n",
    "        for item in data:\n",
    "            name = item.get('name')\n",
    "            id = item.get('id')\n",
    "            meteorite = item.get('nametype')\n",
    "            recclass = item.get('recclass')\n",
    "            mass = item.get('mass (g)')\n",
    "            year = item.get('year')\n",
    "            reclat = item.get('reclat')\n",
    "            reclong = item.get('reclong')\n",
    "            coordinates = item.get('geolocation', {}).get('coordinates', [])\n",
    "            \n",
    "            # Convert year to datetime format\n",
    "            if year:\n",
    "                year = datetime.strptime(year, '%Y-%m-%dT%H:%M:%S.%f')\n",
    "            \n",
    "            writer.writerow([\n",
    "                name,\n",
    "                id,\n",
    "                meteorite,\n",
    "                recclass,\n",
    "                mass,\n",
    "                year,\n",
    "                reclat,\n",
    "                reclong,\n",
    "                coordinates\n",
    "            ])\n",
    "\n",
    "# Download the data from the provided link\n",
    "url = 'https://data.nasa.gov/resource/y77d-th95.json'\n",
    "data = download_data(url)\n",
    "\n",
    "# Convert the data to CSV\n",
    "output_file = 'meteorite_data.csv'\n",
    "convert_to_csv(data, output_file)\n",
    "\n",
    "print(f\"Data has been downloaded and saved to '{output_file}'.\")\n",
    "\n"
   ]
  },
  {
   "cell_type": "code",
   "execution_count": null,
   "id": "55c95185-fd7f-4efc-9451-5edcf5a83e4b",
   "metadata": {},
   "outputs": [],
   "source": []
  }
 ],
 "metadata": {
  "kernelspec": {
   "display_name": "Python 3 (ipykernel)",
   "language": "python",
   "name": "python3"
  },
  "language_info": {
   "codemirror_mode": {
    "name": "ipython",
    "version": 3
   },
   "file_extension": ".py",
   "mimetype": "text/x-python",
   "name": "python",
   "nbconvert_exporter": "python",
   "pygments_lexer": "ipython3",
   "version": "3.10.3"
  }
 },
 "nbformat": 4,
 "nbformat_minor": 5
}
