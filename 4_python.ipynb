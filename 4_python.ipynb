{
 "cells": [
  {
   "cell_type": "code",
   "execution_count": 1,
   "id": "649bc60f-81fd-40e6-979e-403f32aa5da3",
   "metadata": {},
   "outputs": [
    {
     "ename": "KeyError",
     "evalue": "'mass'",
     "output_type": "error",
     "traceback": [
      "\u001b[1;31m---------------------------------------------------------------------------\u001b[0m",
      "\u001b[1;31mKeyError\u001b[0m                                  Traceback (most recent call last)",
      "Cell \u001b[1;32mIn [1], line 43\u001b[0m\n\u001b[0;32m     40\u001b[0m data_url \u001b[38;5;241m=\u001b[39m \u001b[38;5;124m'\u001b[39m\u001b[38;5;124mhttps://data.nasa.gov/resource/y77d-th95.json\u001b[39m\u001b[38;5;124m'\u001b[39m\n\u001b[0;32m     42\u001b[0m \u001b[38;5;66;03m# Download the data, process it, and save it in CSV format\u001b[39;00m\n\u001b[1;32m---> 43\u001b[0m csv_file \u001b[38;5;241m=\u001b[39m download_and_convert_data(data_url)\n\u001b[0;32m     45\u001b[0m \u001b[38;5;66;03m# Print the filename of the created CSV file\u001b[39;00m\n\u001b[0;32m     46\u001b[0m \u001b[38;5;28mprint\u001b[39m(\u001b[38;5;124m\"\u001b[39m\u001b[38;5;124mCSV file created:\u001b[39m\u001b[38;5;124m\"\u001b[39m, csv_file)\n",
      "Cell \u001b[1;32mIn [1], line 28\u001b[0m, in \u001b[0;36mdownload_and_convert_data\u001b[1;34m(url)\u001b[0m\n\u001b[0;32m     26\u001b[0m nametype \u001b[38;5;241m=\u001b[39m entry[\u001b[38;5;124m'\u001b[39m\u001b[38;5;124mnametype\u001b[39m\u001b[38;5;124m'\u001b[39m]\n\u001b[0;32m     27\u001b[0m recclass \u001b[38;5;241m=\u001b[39m entry[\u001b[38;5;124m'\u001b[39m\u001b[38;5;124mrecclass\u001b[39m\u001b[38;5;124m'\u001b[39m]\n\u001b[1;32m---> 28\u001b[0m mass \u001b[38;5;241m=\u001b[39m \u001b[43mentry\u001b[49m\u001b[43m[\u001b[49m\u001b[38;5;124;43m'\u001b[39;49m\u001b[38;5;124;43mmass\u001b[39;49m\u001b[38;5;124;43m'\u001b[39;49m\u001b[43m]\u001b[49m\n\u001b[0;32m     29\u001b[0m year \u001b[38;5;241m=\u001b[39m entry[\u001b[38;5;124m'\u001b[39m\u001b[38;5;124myear\u001b[39m\u001b[38;5;124m'\u001b[39m]\n\u001b[0;32m     30\u001b[0m reclat \u001b[38;5;241m=\u001b[39m entry[\u001b[38;5;124m'\u001b[39m\u001b[38;5;124mreclat\u001b[39m\u001b[38;5;124m'\u001b[39m]\n",
      "\u001b[1;31mKeyError\u001b[0m: 'mass'"
     ]
    }
   ],
   "source": [
    "import requests\n",
    "import json\n",
    "import csv\n",
    "\n",
    "def download_and_convert_data(url):\n",
    "    # Download the data from the provided link\n",
    "    response = requests.get(url)\n",
    "    data = response.json()\n",
    "\n",
    "    # Define the output CSV file name\n",
    "    output_filename = 'meteorite_data.csv'\n",
    "\n",
    "    # Open the CSV file in write mode and create a writer object\n",
    "    with open(output_filename, 'w', newline='', encoding='utf-8') as file:\n",
    "        writer = csv.writer(file)\n",
    "\n",
    "        # Write the header row\n",
    "        writer.writerow(['Name of Earth Meteorite', 'ID of Earth Meteorite', 'Name Type', 'Recclass', 'Mass (g)',\n",
    "                         'Year', 'Latitude', 'Longitude'])\n",
    "\n",
    "        # Process each meteorite entry in the data and write it to the CSV file\n",
    "        for entry in data:\n",
    "            # Extract the required attributes from the entry\n",
    "            name = entry['name']\n",
    "            id = entry['id']\n",
    "            nametype = entry['nametype']\n",
    "            recclass = entry['recclass']\n",
    "            mass = entry['mass']\n",
    "            year = entry['year']\n",
    "            reclat = entry['reclat']\n",
    "            reclong = entry['reclong']\n",
    "\n",
    "            # Write the attributes as a new row to the CSV file\n",
    "            writer.writerow([name, id, nametype, recclass, mass, year, reclat, reclong])\n",
    "\n",
    "    return output_filename\n",
    "\n",
    "\n",
    "# Provide the URL of the data\n",
    "data_url = 'https://data.nasa.gov/resource/y77d-th95.json'\n",
    "\n",
    "# Download the data, process it, and save it in CSV format\n",
    "csv_file = download_and_convert_data(data_url)\n",
    "\n",
    "# Print the filename of the created CSV file\n",
    "print(\"CSV file created:\", csv_file)\n"
   ]
  },
  {
   "cell_type": "code",
   "execution_count": null,
   "id": "7823c9c4-a5b3-4d1d-84f2-7994d05f9ee0",
   "metadata": {},
   "outputs": [],
   "source": []
  }
 ],
 "metadata": {
  "kernelspec": {
   "display_name": "Python 3 (ipykernel)",
   "language": "python",
   "name": "python3"
  },
  "language_info": {
   "codemirror_mode": {
    "name": "ipython",
    "version": 3
   },
   "file_extension": ".py",
   "mimetype": "text/x-python",
   "name": "python",
   "nbconvert_exporter": "python",
   "pygments_lexer": "ipython3",
   "version": "3.10.3"
  }
 },
 "nbformat": 4,
 "nbformat_minor": 5
}
